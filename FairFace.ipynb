{
 "cells": [
  {
   "cell_type": "code",
   "execution_count": 26,
   "metadata": {},
   "outputs": [],
   "source": [
    "import os.path\n",
    "import torch\n",
    "import torch.nn as nn\n",
    "import torchvision\n",
    "from torchvision import transforms\n",
    "import pandas as pd\n",
    "import dlib\n",
    "import numpy as np"
   ]
  },
  {
   "attachments": {},
   "cell_type": "markdown",
   "metadata": {},
   "source": [
    "Loading mode, get test_img names etc."
   ]
  },
  {
   "cell_type": "code",
   "execution_count": 27,
   "metadata": {},
   "outputs": [
    {
     "name": "stderr",
     "output_type": "stream",
     "text": [
      "/home/chx/.local/lib/python3.10/site-packages/torchvision/models/_utils.py:208: UserWarning: The parameter 'pretrained' is deprecated since 0.13 and may be removed in the future, please use 'weights' instead.\n",
      "  warnings.warn(\n",
      "/home/chx/.local/lib/python3.10/site-packages/torchvision/models/_utils.py:223: UserWarning: Arguments other than a weight enum or `None` for 'weights' are deprecated since 0.13 and may be removed in the future. The current behavior is equivalent to passing `weights=ResNet34_Weights.IMAGENET1K_V1`. You can also use `weights=ResNet34_Weights.DEFAULT` to get the most up-to-date weights.\n",
      "  warnings.warn(msg)\n"
     ]
    }
   ],
   "source": [
    "# input labels.\n",
    "label = pd.read_csv(\"labels/fairface_label_val.csv\")\n",
    "imgs_path = \"fairface-img-margin025-trainval/val\"\n",
    "img_names = [os.path.join(imgs_path, x) for x in os.listdir(imgs_path)]\n",
    "device = torch.device(\"cuda:0\" if torch.cuda.is_available() else \"cpu\")\n",
    "\n",
    "model_fair_7 = torchvision.models.resnet34(pretrained=True)\n",
    "model_fair_7.fc = nn.Linear(model_fair_7.fc.in_features, 18)\n",
    "# if runs on a machine without GPU, should do map_location=torch.device('cpu')\n",
    "#model_fair_7.load_state_dict(torch.load('fair_face_models/fairface_alldata_20191111.pt')) \n",
    "model_fair_7.load_state_dict(torch.load('fair_face_models/fairface_alldata_20191111.pt' , map_location=torch.device('cpu')))\n",
    "model_fair_7 = model_fair_7.to(device)\n",
    "\n",
    "\n",
    "# trans\n",
    "\n",
    "trans = transforms.Compose([\n",
    "    transforms.ToPILImage(),\n",
    "    transforms.Resize((224, 224)),\n",
    "    transforms.ToTensor(),\n",
    "    transforms.Normalize(mean=[0.485, 0.456, 0.406], std=[0.229, 0.224, 0.225])\n",
    "])"
   ]
  },
  {
   "attachments": {},
   "cell_type": "markdown",
   "metadata": {},
   "source": [
    "Start running the model."
   ]
  },
  {
   "cell_type": "code",
   "execution_count": 28,
   "metadata": {},
   "outputs": [],
   "source": [
    "# # Define a hook for all ReLU layers to compute the sum of activations of each filter\n",
    "# activation = {}\n",
    "# def relu_hook(module, input, output, layer_name):\n",
    "#     activation[layer_name] = output.detach()\n",
    "# # Register the hook for all ReLU layers\n",
    "# for layer_name, layer in model.named_modules():\n",
    "#     if isinstance(layer, torch.nn.ReLU):\n",
    "#         layer.register_forward_hook(relu_hook, layer_name=layer_name)\n",
    "num_filters = {}\n",
    "activation = {}\n",
    "filter_sums = {}\n",
    "def get_activation(name):\n",
    "    def hook(model, input, output):\n",
    "        # Squeeze the tensor to remove the dimension with size 1\n",
    "        squeezed_tensor = torch.squeeze(output.detach())\n",
    "        activation[name] = squeezed_tensor\n",
    "        # If squeezed_tensor has more than one dimension, flatten it\n",
    "        if len(squeezed_tensor.shape) > 1:\n",
    "            flattened_tensor = torch.flatten(squeezed_tensor, start_dim=1)\n",
    "        else:\n",
    "            flattened_tensor = squeezed_tensor\n",
    "        # Sum along the second dimension if it exists, otherwise keep the tensor as is\n",
    "        if flattened_tensor.dim() > 1:\n",
    "            summed_tensor = flattened_tensor.sum(dim=1)\n",
    "        else:\n",
    "            summed_tensor = flattened_tensor\n",
    "        # Convert the tensor to a list\n",
    "        summed_list = summed_tensor.tolist()\n",
    "        filter_sums[name] = summed_list\n",
    "        num_filters[name] = len(summed_list)\n",
    "    return hook\n",
    "\n",
    "for name, layer in model_fair_7.named_modules():\n",
    "    if isinstance(layer, torch.nn.ReLU):\n",
    "        layer.register_forward_hook(get_activation(name))\n",
    "    "
   ]
  },
  {
   "cell_type": "code",
   "execution_count": 32,
   "metadata": {},
   "outputs": [
    {
     "name": "stdout",
     "output_type": "stream",
     "text": [
      "Predicting... 0/10954\n",
      "5 0 3\n",
      "Predicting... 1000/10954\n",
      "4 0 3\n",
      "Predicting... 2000/10954\n",
      "3 0 7\n",
      "Predicting... 3000/10954\n",
      "0 1 3\n",
      "Predicting... 4000/10954\n",
      "3 1 3\n",
      "Predicting... 5000/10954\n",
      "5 0 3\n",
      "Predicting... 6000/10954\n",
      "1 1 4\n",
      "Predicting... 7000/10954\n",
      "1 1 4\n",
      "Predicting... 8000/10954\n",
      "4 1 3\n",
      "Predicting... 9000/10954\n",
      "2 1 3\n",
      "Predicting... 10000/10954\n",
      "1 1 1\n"
     ]
    }
   ],
   "source": [
    "# Define class labels for CIFAR-10\n",
    "classes = ['Black+Female', 'Black+Male', 'East Asian+Female', 'East Asian+Male', 'Indian+Female', 'Indian+Male', 'Latino_Hispanic+Female', 'Latino_Hispanic+Male', 'Middle Eastern+Female', 'Middle Eastern+Male', 'Southeast Asian+Female', 'Southeast Asian+Male', 'White+Female', 'White+Male']\n",
    "# Define variables to track accuracy and class-wise accuracy\n",
    "correct = 0\n",
    "total = 0\n",
    "class_correct = [0] * 14\n",
    "class_total = [0] * 14\n",
    "\n",
    "image_predictation_result = {cl: {} for cl in range(len(classes))}\n",
    "activation_all_images = []\n",
    "filtersum_all_images = []\n",
    "miss_predicated_images = []\n",
    "# Set the model to evaluation mode\n",
    "model_fair_7.eval()\n",
    "my_label = pd.read_csv(\"labels/fairface_label_val.csv\")\n",
    "for index, img_name in enumerate(img_names):\n",
    "    if index % 1000 == 0:\n",
    "        print(\"Predicting... {}/{}\".format(index, len(img_names)))\n",
    "        img_name_in_label =  'val/' +img_name.split('/')[-1]\n",
    "        label_row = my_label[my_label['file'] == img_name_in_label].iloc[0]\n",
    "        \n",
    "        # load image, run model.\n",
    "        image = dlib.load_rgb_image(img_name)\n",
    "        image = trans(image)\n",
    "        image = image.view(1, 3, 224, 224)  # reshape image to match model dimensions (1 batch size)\n",
    "        image = image.to(device)\n",
    "        \n",
    "        outputs = model_fair_7(image)\n",
    "        outputs = outputs.cpu().detach().numpy()\n",
    "        outputs = np.squeeze(outputs)\n",
    "        \n",
    "        race_outputs = outputs[:7]\n",
    "        gender_outputs = outputs[7:9]\n",
    "        age_outputs = outputs[9:18]\n",
    "        \n",
    "        race_score = np.exp(race_outputs) / np.sum(np.exp(race_outputs))\n",
    "        gender_score = np.exp(gender_outputs) / np.sum(np.exp(gender_outputs))\n",
    "        age_score = np.exp(age_outputs) / np.sum(np.exp(age_outputs))\n",
    "\n",
    "        race_pred = np.argmax(race_score)\n",
    "        gender_pred = np.argmax(gender_score)\n",
    "        age_pred = np.argmax(age_score)\n",
    "\n",
    "        race_dict = {\n",
    "            0: 'White',\n",
    "            1: 'Black',\n",
    "            2: 'Latino_Hispanic',\n",
    "            3: 'East Asian',\n",
    "            4: 'Southeast Asian',\n",
    "            5: 'Indian',\n",
    "            6: 'Middle Eastern'\n",
    "        }\n",
    "        gender_dict = { 0:'Male' , 1 :'Female'}\n",
    "        \n",
    "        print(race_pred,gender_pred,age_pred)"
   ]
  }
 ],
 "metadata": {
  "kernelspec": {
   "display_name": "Python 3",
   "language": "python",
   "name": "python3"
  },
  "language_info": {
   "codemirror_mode": {
    "name": "ipython",
    "version": 3
   },
   "file_extension": ".py",
   "mimetype": "text/x-python",
   "name": "python",
   "nbconvert_exporter": "python",
   "pygments_lexer": "ipython3",
   "version": "3.10.6"
  },
  "orig_nbformat": 4
 },
 "nbformat": 4,
 "nbformat_minor": 2
}
